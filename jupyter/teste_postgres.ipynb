{
 "cells": [
  {
   "cell_type": "code",
   "execution_count": null,
   "metadata": {
    "vscode": {
     "languageId": "plaintext"
    }
   },
   "outputs": [],
   "source": [
    "import psycopg2\n",
    "\n",
    "# Conectar ao PostgreSQL\n",
    "conn = psycopg2.connect(\n",
    "    host=\"postgres\",\n",
    "    database=\"data_science\",\n",
    "    user=\"user\",\n",
    "    password=\"password\"\n",
    ")\n",
    "cur = conn.cursor()\n",
    "\n",
    "# Criar uma nova tabela\n",
    "cur.execute(\"\"\"\n",
    "    CREATE TABLE IF NOT EXISTS test_table (\n",
    "        id SERIAL PRIMARY KEY,\n",
    "        name VARCHAR(255),\n",
    "        value INT\n",
    "    );\n",
    "\"\"\")\n",
    "\n",
    "# Inserir dados na tabela\n",
    "cur.execute(\"\"\"\n",
    "    INSERT INTO test_table (name, value) VALUES\n",
    "    ('Teste 1', 100),\n",
    "    ('Teste 2', 200);\n",
    "\"\"\")\n",
    "\n",
    "# Consultar os dados\n",
    "cur.execute(\"SELECT * FROM test_table;\")\n",
    "rows = cur.fetchall()\n",
    "\n",
    "# Exibir os resultados\n",
    "print(\"Dados na tabela 'test_table':\")\n",
    "for row in rows:\n",
    "    print(row)\n",
    "\n",
    "# Fechar a conexão\n",
    "cur.close()\n",
    "conn.close()"
   ]
  }
 ],
 "metadata": {
  "language_info": {
   "name": "python"
  }
 },
 "nbformat": 4,
 "nbformat_minor": 2
}
